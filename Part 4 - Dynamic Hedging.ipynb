{
 "cells": [
  {
   "cell_type": "code",
   "execution_count": 1,
   "id": "db376563",
   "metadata": {
    "executionInfo": {
     "elapsed": 494,
     "status": "ok",
     "timestamp": 1668529831889,
     "user": {
      "displayName": "Abigail Choo",
      "userId": "06046667412498988789"
     },
     "user_tz": -480
    },
    "id": "db376563"
   },
   "outputs": [],
   "source": [
    "import numpy as np\n",
    "import pandas as pd\n",
    "import matplotlib.pyplot as plt\n",
    "import scipy.stats as st\n",
    "import statistics as stats"
   ]
  },
  {
   "cell_type": "code",
   "execution_count": 2,
   "id": "30d06566",
   "metadata": {
    "executionInfo": {
     "elapsed": 3,
     "status": "ok",
     "timestamp": 1668529831890,
     "user": {
      "displayName": "Abigail Choo",
      "userId": "06046667412498988789"
     },
     "user_tz": -480
    },
    "id": "30d06566"
   },
   "outputs": [],
   "source": [
    "# Define key parameters\n",
    "S0 = 100\n",
    "r = 0.05\n",
    "sigma = 0.2\n",
    "T = 1/12\n",
    "K = 100"
   ]
  },
  {
   "cell_type": "markdown",
   "id": "6a62c1d2",
   "metadata": {
    "id": "6a62c1d2"
   },
   "source": [
    "$$dX_t = (r + 0.5\\sigma^2)dt + \\sigma dW_t$$\n",
    "\n",
    "For discrete time step, where $t_{i+1}-t_{i} = \\Delta t$:\n",
    "$$X_{t_{i+1}} - X_{t_{i}} = (r + 0.5\\sigma^2)\\Delta t + \\sigma(W_{t_{i+1}} - W_{t_{i}})$$\n",
    "\n",
    "rearranging, we get\n",
    "\n",
    "$$X_{t_{i+1}} = X_{t_{i}} + (r + 0.5\\sigma^2)\\Delta t + \\sigma(W_{t_{i+1}} - W_{t_{i}})$$\n",
    "\n",
    "To get the simulated stock price, we take exponent of the result of $X_t$:\n",
    "$$S_t = exp(X_t)$$"
   ]
  },
  {
   "cell_type": "code",
   "execution_count": 3,
   "id": "92e9a94f",
   "metadata": {
    "executionInfo": {
     "elapsed": 1,
     "status": "ok",
     "timestamp": 1668529832380,
     "user": {
      "displayName": "Abigail Choo",
      "userId": "06046667412498988789"
     },
     "user_tz": -480
    },
    "id": "92e9a94f"
   },
   "outputs": [],
   "source": [
    "def black_scholes_paths(n_paths, n_steps, T, r, sigma, S0):\n",
    "    \n",
    "    # Create a matrix of randomly generated standard distribution\n",
    "    Z = np.random.normal(0.0, 1.0, [n_paths, n_steps])\n",
    "    \n",
    "    # Create matrices of zeroes for variables X, W \n",
    "    X = np.zeros([n_paths, n_steps+1]) # to compute log prices \n",
    "    W = np.zeros([n_paths, n_steps+1]) # to compute brownian motion\n",
    "    \n",
    "    # Create a vector of zeroes for time vector \n",
    "    time = np.zeros([n_steps+1]) # to log time stamp later \n",
    "    \n",
    "    # Initiate the log price matrix with the initial log price at t=0\n",
    "    X[:,0] = np.log(S0)\n",
    "    \n",
    "    # get the time increment, delta t\n",
    "    dt = T / float(n_steps)\n",
    "    \n",
    "    for i in range(n_steps):\n",
    "        # normalize the standard distribution vector to enforce standard distribution\n",
    "        Z[:,i] = (Z[:,i] - Z[:,i].mean())/Z[:,i].std() \n",
    "        # Get Brownian motions W_t\n",
    "        W[:,i+1] = W[:,i] + np.sqrt(dt)*Z[:,i]\n",
    "        # Apply formula from above text \n",
    "        X[:,i+1] = X[:,i] + (r - 0.5*np.square(sigma))*dt + sigma*(W[:,i+1] - W[:,i])\n",
    "        # log time stamp\n",
    "        time[i+1] = time[i] + dt\n",
    "    \n",
    "    S_t = np.exp(X) # get price at time t \n",
    "    \n",
    "    return time, S_t"
   ]
  },
  {
   "cell_type": "code",
   "execution_count": 4,
   "id": "f3d91f17",
   "metadata": {
    "executionInfo": {
     "elapsed": 494,
     "status": "ok",
     "timestamp": 1668529939487,
     "user": {
      "displayName": "Abigail Choo",
      "userId": "06046667412498988789"
     },
     "user_tz": -480
    },
    "id": "f3d91f17"
   },
   "outputs": [],
   "source": [
    "# Create function to price vanilla options analytically using Black-Scholes Model\n",
    "def black_scholes_option_pricer(S, K, r, T, sigma, call = True, mode = None):\n",
    "    '''\n",
    "    Function calculates option prices based on Black-scholes model.\n",
    "    Three modes available: Vanilla (default), Cash-or-Nothing (CON), Asset-or-Nothing (AON)\n",
    "    \n",
    "    Inputs:\n",
    "    S: underlying asset price at t; can be an array of prices\n",
    "    K: strike price; can be an array of prices\n",
    "    r: interest rate, annualized\n",
    "    T: time to expiration (also the T-t in our equations), in number of years\n",
    "    sigma: implied volatility of the option\n",
    "    call: default True. True if pricing call options; otherwise False\n",
    "    Mode: default None. If specified, CON: Cash-or-Nothing, AON: Asset-or-Nothing\n",
    "\n",
    "    Outputs:\n",
    "    Option Prices.\n",
    "    Note: For CON, the output is based on an expected per unit dollar payout.\n",
    "    '''\n",
    "\n",
    "    d2 = (np.log(S/K) +(r - 0.5*np.square(sigma))*(T))/(sigma*np.sqrt(T))\n",
    "    d1 = d2 + sigma*np.sqrt(T)\n",
    "    \n",
    "    d2 = d2 if call == True else -d2\n",
    "    d1 = d1 if call == True else -d1\n",
    "\n",
    "    if mode == 'CON':\n",
    "        option_values = np.exp(-r*T)*st.norm.cdf(d2)\n",
    "\n",
    "    elif mode == 'AON':\n",
    "        option_values = S*st.norm.cdf(d1)\n",
    "\n",
    "    else:\n",
    "        option_values = S*st.norm.cdf(d1) - K*np.exp(-r*T)*st.norm.cdf(d2)\n",
    "        option_values = option_values if call == True else -option_values\n",
    "\n",
    "    return option_values"
   ]
  },
  {
   "cell_type": "code",
   "execution_count": 36,
   "id": "4a3c4275",
   "metadata": {
    "executionInfo": {
     "elapsed": 1,
     "status": "ok",
     "timestamp": 1668529940098,
     "user": {
      "displayName": "Abigail Choo",
      "userId": "06046667412498988789"
     },
     "user_tz": -480
    },
    "id": "4a3c4275"
   },
   "outputs": [],
   "source": [
    "def black_scholes_delta(S, K, r, sigma, t, call = True):\n",
    "    \n",
    "    d1 = (np.log(S/K) + (r + sigma**2/2)*(t)) / (sigma * np.sqrt(t))\n",
    "    return st.norm.cdf(d1) if call == True else st.norm.cdf(d1) - 1"
   ]
  },
  {
   "cell_type": "markdown",
   "id": "51778f62",
   "metadata": {
    "id": "51778f62"
   },
   "source": [
    "## Calculate hedging errors\n",
    "Hedging errors occur because we are hedging at discrete time steps, but the pricing model assumes that continuous hedging is possible.\n",
    "\n",
    "the hedging strategy can be represented in the formula below:\n",
    "$$C_t = \\phi_tS_t - \\psi_tB_t$$\n",
    "\n",
    "where $\\phi_t$ is the option delta, i.e.\n",
    "$$\\phi_t = \\frac{\\partial C}{\\partial S} = \\Phi\\bigg(\\frac{log(\\frac{S}{K})+(r+0.5\\sigma^2)(T-t)}{\\sigma \\sqrt{T-t}}\\bigg)$$\n",
    "\n",
    "and \n",
    "\n",
    "$$\\psi_t B_t = Ke^{-r(T-t)}\\Phi\\bigg(\\frac{log(\\frac{S}{K})+(r-0.5\\sigma^2)(T-t)}{\\sigma \\sqrt{T-t}}\\bigg)$$\n",
    "\n",
    "\n",
    "Therefore, for discrete time step:\n",
    "$$\\Delta C_t = \\phi_t \\Delta S_t - r\\psi_tB_t \\Delta t$$"
   ]
  },
  {
   "cell_type": "code",
   "execution_count": 37,
   "id": "d7892241",
   "metadata": {
    "executionInfo": {
     "elapsed": 2,
     "status": "ok",
     "timestamp": 1668529941311,
     "user": {
      "displayName": "Abigail Choo",
      "userId": "06046667412498988789"
     },
     "user_tz": -480
    },
    "id": "d7892241"
   },
   "outputs": [],
   "source": [
    "def get_hedging_error(S, K, r, sigma,  T, time, dt):\n",
    "    delta = black_scholes_delta(S[:,:-1], K, r, sigma, T - time[:-1], call = True)\n",
    "    phi_dS = delta * np.diff(S)\n",
    "\n",
    "    psi_Bt = K*black_scholes_option_pricer(S[:,:-1], K, r, T - time[:-1], sigma, mode = 'CON')\n",
    "\n",
    "    return np.sum(phi_dS - r*psi_Bt*dt, axis = 1)"
   ]
  },
  {
   "cell_type": "markdown",
   "id": "kh2H98OXaRIq",
   "metadata": {
    "id": "kh2H98OXaRIq"
   },
   "source": [
    "For an option writer who shorts the call option, one needs to hold $\\Phi_t$ units of underlying asset $S$ and short $\\psi_tB_t$ of cash.<br>\n",
    "\n",
    "As the value of the option changes by $Delta C_t$, the hedge needs to also update itself by $\\phi_t\\Delta S_t - r\\psi_tB_t\\Delta t$.<br>\n",
    "\n",
    "At the option expiry, the final pnl of the option writer would be:\n",
    "\n",
    "$$PnL = Premium_{call} + Err_{hedging} - max\\{S_T - K, 0\\}$$\n",
    "\n",
    "i.e. The option writer earns the premium collected from selling the call option, plus any gains (or losses) from the imperfect hedge, minus off the difference between the price of the asset and the strike if option expiries in-the-money."
   ]
  },
  {
   "cell_type": "code",
   "execution_count": 38,
   "id": "439382b1",
   "metadata": {
    "executionInfo": {
     "elapsed": 459,
     "status": "ok",
     "timestamp": 1668529944108,
     "user": {
      "displayName": "Abigail Choo",
      "userId": "06046667412498988789"
     },
     "user_tz": -480
    },
    "id": "439382b1"
   },
   "outputs": [],
   "source": [
    "payoff_list = []\n",
    "def get_final_pnl(S, K, r, T, sigma, n_steps, time):\n",
    "    dt = T/ n_steps\n",
    "    hedging_error = get_hedging_error(S, K, r, sigma, T, time, dt)\n",
    "    S_T = S[:,-1]\n",
    "    payoff = (S_T - K)*(S_T > K)\n",
    "    call_premium = black_scholes_option_pricer(S[:,0], K, r, T, sigma)\n",
    "    payoff_list.append(payoff)\n",
    "    return hedging_error + call_premium - payoff"
   ]
  },
  {
   "cell_type": "code",
   "execution_count": 39,
   "id": "7592c5ed",
   "metadata": {
    "executionInfo": {
     "elapsed": 5,
     "status": "ok",
     "timestamp": 1668529944559,
     "user": {
      "displayName": "Abigail Choo",
      "userId": "06046667412498988789"
     },
     "user_tz": -480
    },
    "id": "7592c5ed"
   },
   "outputs": [],
   "source": [
    "def main_calculation(S0, K, r, T, sigma, n_paths, n_steps):\n",
    "    time, S_t = black_scholes_paths(n_paths, n_steps, T, r, sigma, S0)\n",
    "\n",
    "    final_pnl = get_final_pnl(S_t, K, r, T, sigma, n_steps, time)\n",
    "    \n",
    "    return final_pnl"
   ]
  },
  {
   "cell_type": "code",
   "execution_count": 40,
   "id": "994804c8",
   "metadata": {
    "executionInfo": {
     "elapsed": 5,
     "status": "ok",
     "timestamp": 1668529946124,
     "user": {
      "displayName": "Abigail Choo",
      "userId": "06046667412498988789"
     },
     "user_tz": -480
    },
    "id": "994804c8"
   },
   "outputs": [],
   "source": [
    "def plot_assistant(arr, bin_size, rng, n_steps):\n",
    "    plt.figure(figsize = (15,5))\n",
    "    plt.hist(arr, bins = bin_size, range = rng)\n",
    "    plt.title('Final PnL for steps = {}.'.format(n_steps))\n",
    "    plt.xlabel('Final PnL')\n",
    "    plt.ylabel('Frequency')\n",
    "    plt.show()"
   ]
  },
  {
   "cell_type": "markdown",
   "id": "9522ab8d",
   "metadata": {
    "id": "9522ab8d"
   },
   "source": [
    "## Simulation 1: Evaluate hedging error when dynamic hedged 21 times during the lifetime of the contract"
   ]
  },
  {
   "cell_type": "code",
   "execution_count": 41,
   "id": "ca5b30f9",
   "metadata": {
    "colab": {
     "base_uri": "https://localhost:8080/",
     "height": 350
    },
    "executionInfo": {
     "elapsed": 1472,
     "status": "ok",
     "timestamp": 1668529948078,
     "user": {
      "displayName": "Abigail Choo",
      "userId": "06046667412498988789"
     },
     "user_tz": -480
    },
    "id": "ca5b30f9",
    "outputId": "13584f7b-f05c-4d37-910b-6d4e9a00d473"
   },
   "outputs": [
    {
     "data": {
      "image/png": "[encoded data removed]",
      "text/plain": [
       "<Figure size 1080x360 with 1 Axes>"
      ]
     },
     "metadata": {
      "needs_background": "light"
     },
     "output_type": "display_data"
    }
   ],
   "source": [
    "n_steps_1 = 21\n",
    "final_pnl_1 = main_calculation(S0, K, r, T, sigma, 50000, n_steps_1)\n",
    "plot_assistant(final_pnl_1, 50, [-2,2], n_steps_1)"
   ]
  },
  {
   "cell_type": "markdown",
   "id": "Q86N3VSzZR5A",
   "metadata": {
    "id": "Q86N3VSzZR5A"
   },
   "source": [
    "## Simulation 2: Evaluate hedging error when dynamic hedged 84 times during the lifetime of the contract"
   ]
  },
  {
   "cell_type": "code",
   "execution_count": 42,
   "id": "e53c0164",
   "metadata": {
    "colab": {
     "base_uri": "https://localhost:8080/",
     "height": 350
    },
    "executionInfo": {
     "elapsed": 2610,
     "status": "ok",
     "timestamp": 1668529952910,
     "user": {
      "displayName": "Abigail Choo",
      "userId": "06046667412498988789"
     },
     "user_tz": -480
    },
    "id": "e53c0164",
    "outputId": "114b4c24-feff-4717-f700-86cbc1ffe5c3"
   },
   "outputs": [
    {
     "data": {
      "image/png": "[encoded data removed]",
      "text/plain": [
       "<Figure size 1080x360 with 1 Axes>"
      ]
     },
     "metadata": {
      "needs_background": "light"
     },
     "output_type": "display_data"
    }
   ],
   "source": [
    "n_steps_2 = 84\n",
    "final_pnl_2 = main_calculation(S0, K, r, T, sigma, 50000, n_steps_2)\n",
    "plot_assistant(final_pnl_2, 50, [-2,2], n_steps_2)"
   ]
  },
  {
   "cell_type": "markdown",
   "id": "Qt1giPIMxxc1",
   "metadata": {
    "id": "Qt1giPIMxxc1"
   },
   "source": [
    "## Additional Analysis: Optimal Dynamic Hedging Count\n",
    "\n",
    "Assumption: Fixed cost per trade\n",
    "\n",
    "Idea: Cost VS Marginal Performance Improvement in PnL Std\n",
    "\n",
    "Optimal count of dynamic hedging in which any additional hedge after that results in a diminished improvement in PnL Std."
   ]
  },
  {
   "cell_type": "code",
   "execution_count": null,
   "id": "_88CJioWs-by",
   "metadata": {
    "id": "_88CJioWs-by"
   },
   "outputs": [],
   "source": [
    "def multiples(value, length):\n",
    "    return [*range(value, length*value+1, value)]\n",
    "\n",
    "pnl_std = []\n",
    "no_of_trades = multiples(1,200)\n",
    "\n",
    "for i in no_of_trades:\n",
    "    final_pnl = main_calculation(S0, K, r, T, sigma, 50000, i)\n",
    "    pnl_std.append(final_pnl.std())"
   ]
  },
  {
   "cell_type": "code",
   "execution_count": null,
   "id": "tls6KlEGxyrW",
   "metadata": {
    "colab": {
     "base_uri": "https://localhost:8080/",
     "height": 470
    },
    "executionInfo": {
     "elapsed": 557,
     "status": "ok",
     "timestamp": 1668494299609,
     "user": {
      "displayName": "Abigail Choo",
      "userId": "06046667412498988789"
     },
     "user_tz": -480
    },
    "id": "tls6KlEGxyrW",
    "outputId": "e883fd74-3577-4973-edae-076b71850dbe"
   },
   "outputs": [
    {
     "data": {
      "image/png": "[encoded data removed]",
      "text/plain": [
       "<Figure size 1080x540 with 1 Axes>"
      ]
     },
     "metadata": {
      "needs_background": "light"
     },
     "output_type": "display_data"
    }
   ],
   "source": [
    "plt.figure(figsize = (15,7.5))\n",
    "\n",
    "plt.plot(normalize_trades,norm_std, '-')\n",
    "#plt.xticks(np.arange(0, 100, 5))\n",
    "plt.xlabel(\"Hedge Count (Normalized)\")\n",
    "plt.ylabel(\"P&L Std (Normalized)\")\n",
    "plt.show()"
   ]
  },
  {
   "cell_type": "code",
   "execution_count": null,
   "id": "sX8IUg6Sxy2n",
   "metadata": {
    "colab": {
     "base_uri": "https://localhost:8080/",
     "height": 470
    },
    "executionInfo": {
     "elapsed": 1057,
     "status": "ok",
     "timestamp": 1668494383670,
     "user": {
      "displayName": "Abigail Choo",
      "userId": "06046667412498988789"
     },
     "user_tz": -480
    },
    "id": "sX8IUg6Sxy2n",
    "outputId": "61d1b653-2fed-4717-a150-ee41970af156"
   },
   "outputs": [
    {
     "data": {
      "image/png": "[encoded data removed]",
      "text/plain": [
       "<Figure size 1080x540 with 1 Axes>"
      ]
     },
     "metadata": {
      "needs_background": "light"
     },
     "output_type": "display_data"
    }
   ],
   "source": [
    "normalize_trades =[]\n",
    "\n",
    "max_val = max(no_of_trades)\n",
    "for i in no_of_trades:\n",
    "    normalize_trades.append(i/max_val)\n",
    "\n",
    "\n",
    "norm_std = []\n",
    "\n",
    "max_std = max(pnl_std)\n",
    "for i in pnl_std:\n",
    "    norm_std.append(i/max_std)\n",
    "\n",
    "gradient = []\n",
    "\n",
    "for i in normalize_trades:\n",
    "    gradient.append(norm_std[normalize_trades.index(i)]/i)\n",
    "\n",
    "    \n",
    "##################\n",
    "# Plot graph\n",
    "##################\n",
    "plt.figure(figsize = (15,7.5))\n",
    "\n",
    "plt.plot(normalize_trades,gradient,'-')\n",
    "plt.xlabel(\"Hedge Count (Normalized)\")\n",
    "plt.ylabel(\"Gradient\") #PnLStDev_Norm / Count_Norm\n",
    "plt.show()"
   ]
  },
  {
   "cell_type": "code",
   "execution_count": null,
   "id": "f5VKuBZDx6IB",
   "metadata": {
    "colab": {
     "base_uri": "https://localhost:8080/"
    },
    "executionInfo": {
     "elapsed": 321,
     "status": "ok",
     "timestamp": 1668494216790,
     "user": {
      "displayName": "Abigail Choo",
      "userId": "06046667412498988789"
     },
     "user_tz": -480
    },
    "id": "f5VKuBZDx6IB",
    "outputId": "922969b5-ed7c-4401-dcce-3534d77dc334"
   },
   "outputs": [
    {
     "data": {
      "text/plain": [
       "37"
      ]
     },
     "execution_count": 35,
     "metadata": {},
     "output_type": "execute_result"
    }
   ],
   "source": [
    "#get index of grad < 1\n",
    "hedge_count = next(x[0] for x in enumerate(gradient) if x[1] < 1)\n",
    "hedge_count #no need to add one, since its < 1\n"
   ]
  }
 ],
 "metadata": {
  "colab": {
   "collapsed_sections": [],
   "provenance": []
  },
  "kernelspec": {
   "display_name": "Python 3 (ipykernel)",
   "language": "python",
   "name": "python3"
  },
  "language_info": {
   "codemirror_mode": {
    "name": "ipython",
    "version": 3
   },
   "file_extension": ".py",
   "mimetype": "text/x-python",
   "name": "python",
   "nbconvert_exporter": "python",
   "pygments_lexer": "ipython3",
   "version": "3.10.9"
  }
 },
 "nbformat": 4,
 "nbformat_minor": 5
}
