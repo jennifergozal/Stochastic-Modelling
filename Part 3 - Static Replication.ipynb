{
 "cells": [
  {
   "cell_type": "code",
   "execution_count": 1,
   "id": "25ce8bf0",
   "metadata": {},
   "outputs": [],
   "source": [
    "import pandas as pd\n",
    "import numpy as np\n",
    "import datetime as dt\n",
    "\n",
    "from scipy.stats import norm\n",
    "from scipy.optimize import brentq\n",
    "from scipy import interpolate\n",
    "from scipy.integrate import quad\n"
   ]
  },
  {
   "cell_type": "code",
   "execution_count": 2,
   "id": "94273207",
   "metadata": {},
   "outputs": [],
   "source": [
    "# Import filescd spx_prices = pd.read_csv('SPX_options.csv')\n",
    "zero_rates = pd.read_csv('zero_rates_20201201.csv')"
   ]
  },
  {
   "cell_type": "markdown",
   "id": "288d6ce8",
   "metadata": {},
   "source": [
    "### Black-Scholes Model:\n",
    "Under the Black-Scholes model, the underlying asset price dynamic follows a geometric Brownian motion, expressed as the following stochastic differential equation:\n",
    "\n",
    "$$dS_t = rS_tdt + \\sigma S_tdW_t^\\mathbb{Q}$$\n",
    "\n",
    "#### Given the payoff function: \n",
    "$$\\begin{aligned} \\mathcal{H}(S_T) &= {S_T}^{1/3} + 1.5 × log(S_T) + 10.0 \\\\\n",
    "&= S_0^{\\frac{1}{3}}exp\\bigg(\\frac{1}{3}(r-\\frac{\\sigma^2}{2})T +\\frac{1}{3}σ\\sqrt{T}x\\bigg) +1.5\\bigg(log(S_0)+(r-\\frac{\\sigma^2}{2})T +σ\\sqrt{T}x\\bigg) + 10 \\end{aligned}$$\n",
    "\n",
    "we derive the derivative pricing as follows:\n",
    "\n",
    "$$\\begin{aligned} V_c &= e^{-rT}\\mathbb{E}_t\\bigg[\\mathcal{H}(S_T)\\bigg]\\\\\n",
    "&= e^{-rT}\\bigg(S_0^{\\frac{1}{3}}exp((\\frac{1}{3}r - \\frac{1}{9}\\sigma^2)T) + 1.5 (log(S_0)+(r-\\frac{\\sigma^2}{2})T)+10\\bigg)\n",
    "\\end{aligned}$$\n",
    "\n"
   ]
  },
  {
   "cell_type": "code",
   "execution_count": 3,
   "id": "149311ed",
   "metadata": {},
   "outputs": [],
   "source": [
    "def BlackScholesDerivative(S, r, sigma, T):\n",
    "    \n",
    "    n = 1/3\n",
    "    \n",
    "    # Term1_valuation = np.exp(-r*T)*(S**n)*(np.exp((n*rT - (n*sigma**2)*T)/3))\n",
    "    Term1_valuation = np.exp(-r*T)*(S**n)*(np.exp((n*r*T - (n*sigma)**2*T)))\n",
    "    Term2_valuation = np.exp(-r*T) * 1.5* (np.log(S) + (r - 0.5*sigma**2)*T)\n",
    "    Term3_valuation = np.exp(-r*T)*10.0\n",
    "                              \n",
    "    BS_Valuation = Term1_valuation + Term2_valuation + Term3_valuation\n",
    "                    \n",
    "    return BS_Valuation"
   ]
  },
  {
   "cell_type": "markdown",
   "id": "2ce86605",
   "metadata": {},
   "source": [
    "### Bachelier Model:\n",
    "\n",
    "Under the Bachelier model, the underlying asset price dynamic follows an arithmetic Brownian motion, expressed as the following stochastic differential equation:\n",
    "\n",
    "$$dS_t = \\sigma S_0dW_t^\\mathbb{Q}$$\n",
    "\n",
    "#### Given the payoff function: \n",
    "$$\\begin{aligned} \\mathcal{H}(S_T) &= {S_T}^{1/3} + 1.5 × log(S_T) + 10.0 \\\\\n",
    "&= S_0^{\\frac{1}{3}}(1 + \\sigma \\sqrt{T}x)^{\\frac{1}{3}} + 1.5\\times log(S_0(1 + \\sigma \\sqrt{T}x)) + 10\\end{aligned}$$\n",
    "\n",
    "By Binomial expansion, we express\n",
    "\n",
    "$$S_0^{\\frac{1}{3}}(1 + \\sigma \\sqrt{T}x)^{\\frac{1}{3}} = S_0^{\\frac{1}{3}}\\bigg(1 + \\frac{1}{3}\\frac{\\sigma \\sqrt{T}}{S_0}x - \\frac{1}{9}\\bigg(\\frac{\\sigma \\sqrt{T}}{S_0}\\bigg)^2x^2+...\\bigg)$$\n",
    "\n",
    "we derive the derivative pricing as follows:\n",
    "\n",
    "$$\\begin{aligned} V_c &= e^{-rT}\\mathbb{E}_t\\bigg[\\mathcal{H}(S_T)\\bigg]\\\\\n",
    "&= e^{-rT}\\bigg(S_0^{\\frac{1}{3}}\\bigg(1 - \\frac{1}{9}(\\frac{\\sigma}{S_0})^2T\\bigg) + 1.5\\bigg(log(S_0) + \\frac{1}{\\sqrt{2\\pi}}\\int_{-\\infty}^{\\infty}log(1+\\sigma\\sqrt{T}x) e^{-\\frac{x^2}{2}}dx\\bigg) + 10 \\bigg)\n",
    "\\end{aligned}$$"
   ]
  },
  {
   "cell_type": "code",
   "execution_count": 4,
   "id": "58b820f4",
   "metadata": {},
   "outputs": [],
   "source": [
    "#------------------------------------------------------------------------------\n",
    "#Bachelier Model\n",
    "\n",
    "def integrand(x, sigma, T):\n",
    "  return np.log(1+sigma*np.sqrt(T)*x)*np.exp(-(x**2)/2)\n",
    "\n",
    "def BachelierDerivative(S, r, sigma, T):\n",
    "  n = 1/3\n",
    "  \n",
    "  #-----To be confirmed-----#\n",
    "  Term1_valuation = (S**n)*(1-n**2*(sigma/S)**2*T)\n",
    "  Term2_valuation = 1.5*np.log(S)\n",
    "  Term3_valuation = 1.5*1/np.sqrt(2*np.pi)*quad(lambda x: integrand(x, sigma, T), 0,5000)[0] #pls reconfirm if this is correct\n",
    "  Term4_valuation = 10.0\n",
    "  #-----To be confirmed-----#\n",
    "                              \n",
    "  B_Valuation = np.exp(-r*T)*(Term1_valuation + Term2_valuation + Term3_valuation + Term4_valuation)\n",
    "                    \n",
    "  return B_Valuation\n",
    "#------------------------------------------------------------------------------"
   ]
  },
  {
   "cell_type": "markdown",
   "id": "6559550c",
   "metadata": {},
   "source": [
    "### Static-replication of European payoff: (1st Derivative Contract)\n",
    "\n",
    "$$ {S_T}^{1/3} + 1.5 × log(S_T) + 10.0 $$\n",
    "\n"
   ]
  },
  {
   "cell_type": "code",
   "execution_count": 5,
   "id": "f3ab1323",
   "metadata": {},
   "outputs": [],
   "source": [
    "def BlackScholesCall(S, K, r, sigma, T):\n",
    "    d1 = (np.log(S/K)+(r+sigma**2/2)*T) / (sigma*np.sqrt(T))\n",
    "    d2 = d1 - sigma*np.sqrt(T)\n",
    "    return S*norm.cdf(d1) - K*np.exp(-r*T)*norm.cdf(d2)\n",
    "\n",
    "def BlackScholesPut(S, K, r, sigma, T):\n",
    "    d1 = (np.log(S/K)+(r+sigma**2/2)*T) / (sigma*np.sqrt(T))\n",
    "    d2 = d1 - sigma*np.sqrt(T)\n",
    "    return K*np.exp(-r*T)*norm.cdf(-d2) - S*norm.cdf(-d1)"
   ]
  },
  {
   "cell_type": "code",
   "execution_count": 6,
   "id": "d664a387",
   "metadata": {},
   "outputs": [],
   "source": [
    "def SABR(F, K, T, alpha, beta, rho, nu):\n",
    "  X = K\n",
    "  # if K is at-the-money-forward\n",
    "  if abs(F - K) < 1e-12:\n",
    "    numer1 = (((1 - beta)**2)/24)*alpha*alpha/(F**(2 - 2*beta))\n",
    "    numer2 = 0.25*rho*beta*nu*alpha/(F**(1 - beta))\n",
    "    numer3 = ((2 - 3*rho*rho)/24)*nu*nu\n",
    "    VolAtm = alpha*(1 + (numer1 + numer2 + numer3)*T)/(F**(1-beta))\n",
    "    sabrsigma = VolAtm\n",
    "  \n",
    "  else:\n",
    "    z = (nu/alpha)*((F*X)**(0.5*(1-beta)))*np.log(F/X)\n",
    "    zhi = np.log((((1 - 2*rho*z + z*z)**0.5) + z - rho)/(1 - rho))\n",
    "    numer1 = (((1 - beta)**2)/24)*((alpha*alpha)/((F*X)**(1 - beta)))\n",
    "    numer2 = 0.25*rho*beta*nu*alpha/((F*X)**((1 - beta)/2))\n",
    "    numer3 = ((2 - 3*rho*rho)/24)*nu*nu\n",
    "    numer = alpha*(1 + (numer1 + numer2 + numer3)*T)*z\n",
    "    denom1 = ((1 - beta)**2/24)*(np.log(F/X))**2\n",
    "    denom2 = (((1 - beta)**4)/1920)*((np.log(F/X))**4)\n",
    "    denom = ((F*X)**((1 - beta)/2))*(1 + denom1 + denom2)*zhi\n",
    "    sabrsigma = numer/denom\n",
    "    \n",
    "  return sabrsigma\n",
    "\n",
    "def SABRCall(S, K, r, alpha, beta, rho, nu, T):\n",
    "  sabr_vol = SABR(S*np.exp(r*T), K, T, alpha, beta, rho, nu)\n",
    "  return BlackScholesCall(S, K, r, sabr_vol, T)\n",
    "\n",
    "\n",
    "def SABRPut(S, K, r, alpha, beta, rho, nu, T):\n",
    "  sabr_vol = SABR(S*np.exp(r*T), K, T, alpha, beta, rho, nu)\n",
    "  return BlackScholesPut(S, K, r, sabr_vol, T)\n",
    "\n",
    "\n",
    "def sabrcallintegrand(K, S, r, T, alpha, beta, rho, nu):\n",
    "  price = SABRCall(S, K, r, alpha, beta, rho, nu, T) / K**2\n",
    "  return price\n",
    "\n",
    "\n",
    "def sabrputintegrand(K, S, r, T, alpha, beta, rho, nu):\n",
    "  price = SABRPut(S, K, r, alpha, beta, rho, nu, T) / K**2\n",
    "  return price\n",
    "\n",
    "def CMintegrand(K, S, r, T, alpha, beta, rho, nu, fxn):\n",
    "  H_doublederiv = -2/9*(K)**(-5/3) - 1.5/(K**2)\n",
    "  return H_doublederiv * fxn(K, S, r, T, alpha, beta, rho, nu)"
   ]
  },
  {
   "cell_type": "code",
   "execution_count": 7,
   "id": "6d541186",
   "metadata": {},
   "outputs": [],
   "source": [
    "def Carr_and_Madan(PK, CK, S, r, T, alpha, beta, rho, nu):\n",
    "  F = S * np.exp(r*T)\n",
    "  print(F)\n",
    "  \n",
    "  hF=F**(1/3) + 1.5*np.log(F) + 10.0\n",
    "  \n",
    "  f1 = quad(lambda x: CMintegrand(x, S, r, T, alpha, beta, rho, nu, PK), 10, F)[0]\n",
    "  f2 = quad(lambda x: CMintegrand(x, S, r, T, alpha, beta, rho, nu, CK), F, 5500)[0]\n",
    "\n",
    "  CM_Valuation = hF*np.exp(-r*T) + f1 + f2\n",
    "    \n",
    "  return CM_Valuation"
   ]
  },
  {
   "cell_type": "markdown",
   "id": "814cc647",
   "metadata": {},
   "source": [
    "## Instrument 2"
   ]
  },
  {
   "cell_type": "markdown",
   "id": "a1855f1d",
   "metadata": {},
   "source": [
    "### Static Replication of European Payoff (2nd Derivative Contract)\n",
    "\n",
    "Given the payoff of the second derivative is as follows:\n",
    "$$ \\sigma^2_{MF}T  = E \\bigg[ \\int_{0}^{T} \\sigma^2_{t} \\,dt \\bigg]  $$\n",
    "\n",
    "Under Black-Scholes and Bachelier Models, the volatility is assumed to be deterministic and constant across time. Therefore, under these models, the price of the derivative is given by:\n",
    "\n",
    "$$\\begin{aligned}V_c &= \\mathbb{E}_t\\bigg[\\int_0^T \\sigma_{Model}^2 dt\\bigg] \\\\\n",
    "&= \\sigma^2_{Model} T \\end{aligned}$$\n",
    "\n",
    "The pricing formula using static replication method is given as follows:\n",
    "$$\\begin{aligned}V_c &= \\mathbb{E}_t\\bigg[\\int_0^T \\sigma_{t}^2 dt\\bigg] \\\\\n",
    "&= 2e^{rT}\\bigg(\\int_0^F\\frac{P(K)}{K^2}dK + \\int_F^\\infty\\frac{C(K)}{K^2}dK\\bigg) \\end{aligned}$$"
   ]
  },
  {
   "cell_type": "code",
   "execution_count": 8,
   "id": "903a99db",
   "metadata": {},
   "outputs": [],
   "source": [
    "def evar(S, r, T, alpha, beta, rho, nu):\n",
    "  F = S*np.exp(r*T)\n",
    "  I_put = quad(lambda x: sabrputintegrand(x, S, r, T, alpha, beta, rho, nu), 10, F)\n",
    "  I_call = quad(lambda x: sabrcallintegrand(x, S, r, T, alpha, beta, rho, nu), F, 5000)\n",
    "  E_var = 2*np.exp(r*T)*(I_put[0] + I_call[0])\n",
    "\n",
    "  return E_var"
   ]
  },
  {
   "cell_type": "markdown",
   "id": "7366e1a7",
   "metadata": {},
   "source": [
    "## Implementation"
   ]
  },
  {
   "cell_type": "code",
   "execution_count": 9,
   "id": "efb16901",
   "metadata": {},
   "outputs": [],
   "source": [
    "# Basic Params\n",
    "days_to_expiry = (pd.Timestamp('2021-01-15') - pd.Timestamp('2020-12-01')).days\n",
    "def get_zero_rate(df_zr, days_to_expiry):\n",
    "    days_maturity1, rate1 = df_zr[df_zr['days'] < days_to_expiry].iloc[-1,1:]\n",
    "    days_maturity2, rate2 = df_zr[df_zr['days'] > days_to_expiry].iloc[0,1:]\n",
    "    \n",
    "    return rate1 + (days_to_expiry - days_maturity1)/(days_maturity2 - days_maturity1)*(rate2 - rate1)\n",
    "r = get_zero_rate(zero_rates, days_to_expiry)/100\n",
    "T = days_to_expiry/365\n",
    "\n",
    "# Underlying spot prices\n",
    "S_spx = 3662.45\n",
    "S_spy = 366.02\n",
    "\n",
    "# Underlying ATM Volatilities (From part 2)\n",
    "ATM_vol_spx = 0.184829\n",
    "ATM_vol_spy = 0.177927\n",
    "\n",
    "# SABR Parameters (From part 2)\n",
    "alpha = [1.816504, 0.871586]\n",
    "beta = 0.7\n",
    "rho = [-0.404302, -0.493586]\n",
    "nu = [2.790158, 2.800048]\n"
   ]
  },
  {
   "cell_type": "code",
   "execution_count": 10,
   "id": "71057999",
   "metadata": {},
   "outputs": [
    {
     "name": "stdout",
     "output_type": "stream",
     "text": [
      "3663.3762493669747\n",
      "366.11256803322914\n"
     ]
    },
    {
     "data": {
      "text/html": [
       "<div>\n",
       "<style scoped>\n",
       "    .dataframe tbody tr th:only-of-type {\n",
       "        vertical-align: middle;\n",
       "    }\n",
       "\n",
       "    .dataframe tbody tr th {\n",
       "        vertical-align: top;\n",
       "    }\n",
       "\n",
       "    .dataframe thead th {\n",
       "        text-align: right;\n",
       "    }\n",
       "</style>\n",
       "<table border=\"1\" class=\"dataframe\">\n",
       "  <thead>\n",
       "    <tr style=\"text-align: right;\">\n",
       "      <th></th>\n",
       "      <th>Underlying</th>\n",
       "      <th>Black-Scholes</th>\n",
       "      <th>Bachelier</th>\n",
       "      <th>Static Replication</th>\n",
       "    </tr>\n",
       "  </thead>\n",
       "  <tbody>\n",
       "    <tr>\n",
       "      <th>0</th>\n",
       "      <td>SPX</td>\n",
       "      <td>37.704907</td>\n",
       "      <td>37.750944</td>\n",
       "      <td>37.715275</td>\n",
       "    </tr>\n",
       "    <tr>\n",
       "      <th>1</th>\n",
       "      <td>SPY</td>\n",
       "      <td>25.995631</td>\n",
       "      <td>26.036679</td>\n",
       "      <td>26.001658</td>\n",
       "    </tr>\n",
       "  </tbody>\n",
       "</table>\n",
       "</div>"
      ],
      "text/plain": [
       "  Underlying  Black-Scholes  Bachelier  Static Replication\n",
       "0        SPX      37.704907  37.750944           37.715275\n",
       "1        SPY      25.995631  26.036679           26.001658"
      ]
     },
     "execution_count": 10,
     "metadata": {},
     "output_type": "execute_result"
    }
   ],
   "source": [
    "prices = [S_spx, S_spy]\n",
    "volas = [ATM_vol_spx, ATM_vol_spy]\n",
    "deriv1_prices = []\n",
    "\n",
    "for idx, itm in enumerate(['SPX', 'SPY']):\n",
    "  deriv_dict = {}\n",
    "  deriv_dict['Underlying'] = itm\n",
    "  deriv_dict['Black-Scholes'] = BlackScholesDerivative(prices[idx], r, volas[idx], T)\n",
    "  deriv_dict['Bachelier'] = BachelierDerivative(prices[idx], r, volas[idx], T)\n",
    "  deriv_dict['Static Replication'] = Carr_and_Madan(sabrputintegrand, sabrcallintegrand, prices[idx], r, T, alpha[idx], beta, rho[idx], nu[idx])\n",
    "\n",
    "  deriv1_prices.append(deriv_dict)\n",
    "\n",
    "df_deriv1 = pd.DataFrame(deriv1_prices)\n",
    "df_deriv1"
   ]
  },
  {
   "cell_type": "code",
   "execution_count": 11,
   "id": "acec0c66",
   "metadata": {},
   "outputs": [
    {
     "data": {
      "text/html": [
       "<div>\n",
       "<style scoped>\n",
       "    .dataframe tbody tr th:only-of-type {\n",
       "        vertical-align: middle;\n",
       "    }\n",
       "\n",
       "    .dataframe tbody tr th {\n",
       "        vertical-align: top;\n",
       "    }\n",
       "\n",
       "    .dataframe thead th {\n",
       "        text-align: right;\n",
       "    }\n",
       "</style>\n",
       "<table border=\"1\" class=\"dataframe\">\n",
       "  <thead>\n",
       "    <tr style=\"text-align: right;\">\n",
       "      <th></th>\n",
       "      <th>Underlying</th>\n",
       "      <th>Black-Scholes</th>\n",
       "      <th>Bachelier</th>\n",
       "      <th>Static Replication</th>\n",
       "    </tr>\n",
       "  </thead>\n",
       "  <tbody>\n",
       "    <tr>\n",
       "      <th>0</th>\n",
       "      <td>SPX</td>\n",
       "      <td>0.004212</td>\n",
       "      <td>0.004212</td>\n",
       "      <td>0.006306</td>\n",
       "    </tr>\n",
       "    <tr>\n",
       "      <th>1</th>\n",
       "      <td>SPY</td>\n",
       "      <td>0.003903</td>\n",
       "      <td>0.003903</td>\n",
       "      <td>0.005765</td>\n",
       "    </tr>\n",
       "  </tbody>\n",
       "</table>\n",
       "</div>"
      ],
      "text/plain": [
       "  Underlying  Black-Scholes  Bachelier  Static Replication\n",
       "0        SPX       0.004212   0.004212            0.006306\n",
       "1        SPY       0.003903   0.003903            0.005765"
      ]
     },
     "execution_count": 11,
     "metadata": {},
     "output_type": "execute_result"
    }
   ],
   "source": [
    "deriv2_prices = []\n",
    "\n",
    "for idx, itm in enumerate(['SPX', 'SPY']):\n",
    "  deriv_dict = {}\n",
    "  deriv_dict['Underlying'] = itm\n",
    "  deriv_dict['Black-Scholes'] = volas[idx]**2 * T\n",
    "  deriv_dict['Bachelier'] = volas[idx]**2 * T\n",
    "  deriv_dict['Static Replication'] = evar(prices[idx], r, T, alpha[idx], beta, rho[idx], nu[idx])\n",
    "\n",
    "  deriv2_prices.append(deriv_dict)\n",
    "\n",
    "df_deriv2 = pd.DataFrame(deriv2_prices)\n",
    "df_deriv2"
   ]
  },
  {
   "cell_type": "code",
   "execution_count": null,
   "id": "da1ca55d",
   "metadata": {},
   "outputs": [],
   "source": []
  },
  {
   "cell_type": "code",
   "execution_count": null,
   "id": "e5bf4e14",
   "metadata": {},
   "outputs": [],
   "source": []
  },
  {
   "cell_type": "code",
   "execution_count": null,
   "id": "f4a5c7e6",
   "metadata": {},
   "outputs": [],
   "source": []
  },
  {
   "cell_type": "code",
   "execution_count": null,
   "id": "0b6668fb",
   "metadata": {},
   "outputs": [],
   "source": []
  },
  {
   "cell_type": "code",
   "execution_count": null,
   "id": "20cf035e",
   "metadata": {},
   "outputs": [],
   "source": []
  },
  {
   "cell_type": "code",
   "execution_count": null,
   "id": "6430facf",
   "metadata": {},
   "outputs": [],
   "source": []
  }
 ],
 "metadata": {
  "kernelspec": {
   "display_name": "Python 3 (ipykernel)",
   "language": "python",
   "name": "python3"
  },
  "language_info": {
   "codemirror_mode": {
    "name": "ipython",
    "version": 3
   },
   "file_extension": ".py",
   "mimetype": "text/x-python",
   "name": "python",
   "nbconvert_exporter": "python",
   "pygments_lexer": "ipython3",
   "version": "3.10.9"
  }
 },
 "nbformat": 4,
 "nbformat_minor": 5
}
